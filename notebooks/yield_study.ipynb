{
 "cells": [
  {
   "cell_type": "code",
   "execution_count": 1,
   "metadata": {},
   "outputs": [],
   "source": [
    "import os, sys\n",
    "HOME_DIR = os.path.join(os.getcwd(), '..')\n",
    "sys.path.append(HOME_DIR)\n",
    "import yaml\n",
    "import pandas as pd\n",
    "import numpy as np\n",
    "import matplotlib.pyplot as plt\n",
    "import seaborn as sns\n",
    "import rdkit\n",
    "from rdkit import Chem\n",
    "import torch\n",
    "from torch_geometric.loader import DataLoader\n",
    "from substrate_metric_learning.networks import Net\n",
    "from substrate_metric_learning.utils import *\n",
    "from substrate_metric_learning.features import smiles_to_graph_substrate, smiles_to_graph\n",
    "from sklearn.experimental import enable_hist_gradient_boosting\n",
    "from sklearn.model_selection import LeaveOneOut\n",
    "from sklearn.linear_model import LinearRegression, Lasso, Ridge\n",
    "from sklearn.neighbors import KNeighborsRegressor\n",
    "from sklearn.metrics import r2_score\n",
    "from sklearn.feature_selection import mutual_info_regression, f_regression\n",
    "from sklearn.pipeline import make_pipeline\n",
    "from sklearn.preprocessing import StandardScaler\n",
    "from sklearn.compose import TransformedTargetRegressor\n",
    "from sklearn.svm import SVR\n",
    "from sklearn.ensemble import RandomForestRegressor, GradientBoostingRegressor, HistGradientBoostingRegressor, ExtraTreesRegressor\n",
    "import sklearn\n",
    "import random\n",
    "import autosklearn.regression\n",
    "from tdc.chem_utils import MolConvert\n",
    "\n",
    "from sklearn.datasets import make_circles, make_classification, make_moons\n",
    "from sklearn.discriminant_analysis import QuadraticDiscriminantAnalysis\n",
    "from sklearn.ensemble import AdaBoostClassifier, RandomForestClassifier\n",
    "from sklearn.gaussian_process import GaussianProcessClassifier\n",
    "from sklearn.gaussian_process.kernels import RBF\n",
    "from sklearn.model_selection import train_test_split\n",
    "from sklearn.naive_bayes import GaussianNB\n",
    "from sklearn.neighbors import KNeighborsClassifier\n",
    "from sklearn.neural_network import MLPClassifier\n",
    "from sklearn.pipeline import make_pipeline\n",
    "from sklearn.preprocessing import StandardScaler\n",
    "from sklearn.svm import SVC\n",
    "from sklearn.tree import DecisionTreeClassifier\n",
    "\n",
    "\n",
    "from tqdm.notebook import tqdm"
   ]
  },
  {
   "cell_type": "code",
   "execution_count": 2,
   "metadata": {},
   "outputs": [],
   "source": [
    "def snr_distance(ri, rj):\n",
    "    return np.var(ri - rj) / (np.var(ri) + 1e-8)"
   ]
  },
  {
   "cell_type": "code",
   "execution_count": 3,
   "metadata": {},
   "outputs": [
    {
     "data": {
      "text/plain": [
       "<All keys matched successfully>"
      ]
     },
     "execution_count": 3,
     "metadata": {},
     "output_type": "execute_result"
    }
   ],
   "source": [
    "config_path = os.path.join(HOME_DIR, \"configs/hparams_default.yaml\")\n",
    "config = Objdict(yaml.safe_load(open(config_path)))\n",
    "input_dim = 133\n",
    "device = torch.device('cuda' if torch.cuda.is_available() else 'cpu')\n",
    "model_pretrained = Net(input_dim, config.hidden_channels, 1, config.num_layers, config.pool).to(device)\n",
    "model_pretrained.load_state_dict(torch.load(\"/home/whgao/substrate_metric_learning/results/default/gin_epoch_56_sum_r2_1.538.pth\"))\n",
    "model_untrained = Net(input_dim, config.hidden_channels, 1, config.num_layers, config.pool).to(device)\n",
    "model_untrained.load_state_dict(torch.load(\"/home/whgao/substrate_metric_learning/results/default/gin_epoch_0.pth\"))"
   ]
  },
  {
   "cell_type": "code",
   "execution_count": 4,
   "metadata": {},
   "outputs": [
    {
     "data": {
      "text/html": [
       "<div>\n",
       "<style scoped>\n",
       "    .dataframe tbody tr th:only-of-type {\n",
       "        vertical-align: middle;\n",
       "    }\n",
       "\n",
       "    .dataframe tbody tr th {\n",
       "        vertical-align: top;\n",
       "    }\n",
       "\n",
       "    .dataframe thead th {\n",
       "        text-align: right;\n",
       "    }\n",
       "</style>\n",
       "<table border=\"1\" class=\"dataframe\">\n",
       "  <thead>\n",
       "    <tr style=\"text-align: right;\">\n",
       "      <th></th>\n",
       "      <th>RxnSMILES</th>\n",
       "      <th>Arylhalide</th>\n",
       "      <th>Canonical</th>\n",
       "      <th>RxnID</th>\n",
       "      <th>Yield</th>\n",
       "      <th>ScopeID</th>\n",
       "      <th>ScopeSize</th>\n",
       "      <th>aroma_c_index</th>\n",
       "      <th>halide_index</th>\n",
       "    </tr>\n",
       "  </thead>\n",
       "  <tbody>\n",
       "    <tr>\n",
       "      <th>0</th>\n",
       "      <td>C[Si](C)(C)[Si:1]([CH3:2])([CH3:3])[CH3:4].I[C...</td>\n",
       "      <td>I[C:11]1=[CH:9][CH:7]=[C:6]([Cl:5])[CH:8]=[CH:...</td>\n",
       "      <td>Clc1ccc(I)cc1</td>\n",
       "      <td>12980746</td>\n",
       "      <td>67.0</td>\n",
       "      <td>9</td>\n",
       "      <td>10</td>\n",
       "      <td>1</td>\n",
       "      <td>0</td>\n",
       "    </tr>\n",
       "    <tr>\n",
       "      <th>1</th>\n",
       "      <td>C[Si](C)(C)[Si:9]([CH3:10])([CH3:11])[CH3:12]....</td>\n",
       "      <td>I[C:6]1=[CH:4][C:2]([Cl:1])=[CH:3][C:5]([Cl:7]...</td>\n",
       "      <td>Clc1cc(Cl)cc(I)c1</td>\n",
       "      <td>12980747</td>\n",
       "      <td>65.0</td>\n",
       "      <td>9</td>\n",
       "      <td>10</td>\n",
       "      <td>1</td>\n",
       "      <td>0</td>\n",
       "    </tr>\n",
       "    <tr>\n",
       "      <th>2</th>\n",
       "      <td>C[Si](C)(C)[Si:11]([CH3:12])([CH3:13])[CH3:14]...</td>\n",
       "      <td>I[C:10]1=[CH:8][CH:6]=[C:5]([C:1]([CH3:2])([CH...</td>\n",
       "      <td>CC(C)(C)c1ccc(I)cc1</td>\n",
       "      <td>12980741</td>\n",
       "      <td>71.0</td>\n",
       "      <td>9</td>\n",
       "      <td>10</td>\n",
       "      <td>1</td>\n",
       "      <td>0</td>\n",
       "    </tr>\n",
       "    <tr>\n",
       "      <th>3</th>\n",
       "      <td>C[Si](C)(C)[Si:1]([CH3:2])([CH3:3])[CH3:4].I[C...</td>\n",
       "      <td>I[C:11]1=[CH:9][CH:7]=[C:6]([F:5])[CH:8]=[CH:10]1</td>\n",
       "      <td>Fc1ccc(I)cc1</td>\n",
       "      <td>12980744</td>\n",
       "      <td>74.0</td>\n",
       "      <td>9</td>\n",
       "      <td>10</td>\n",
       "      <td>1</td>\n",
       "      <td>0</td>\n",
       "    </tr>\n",
       "    <tr>\n",
       "      <th>4</th>\n",
       "      <td>C[Si](C)(C)[Si:9]([CH3:10])([CH3:11])[CH3:12]....</td>\n",
       "      <td>I[C:6]1=[CH:4][C:2]([CH3:1])=[CH:3][C:5]([CH3:...</td>\n",
       "      <td>Cc1cc(C)cc(I)c1</td>\n",
       "      <td>12980740</td>\n",
       "      <td>77.0</td>\n",
       "      <td>9</td>\n",
       "      <td>10</td>\n",
       "      <td>1</td>\n",
       "      <td>0</td>\n",
       "    </tr>\n",
       "    <tr>\n",
       "      <th>...</th>\n",
       "      <td>...</td>\n",
       "      <td>...</td>\n",
       "      <td>...</td>\n",
       "      <td>...</td>\n",
       "      <td>...</td>\n",
       "      <td>...</td>\n",
       "      <td>...</td>\n",
       "      <td>...</td>\n",
       "      <td>...</td>\n",
       "    </tr>\n",
       "    <tr>\n",
       "      <th>64187</th>\n",
       "      <td>Br[C:1]1=[CH:2][C:4]2=[C:6]([CH:5]=[CH:3]1)[CH...</td>\n",
       "      <td>Br[C:1]1=[CH:2][C:4]2=[C:6]([CH:5]=[CH:3]1)[CH...</td>\n",
       "      <td>Brc1ccc2ccccc2c1</td>\n",
       "      <td>22184995</td>\n",
       "      <td>77.0</td>\n",
       "      <td>633578</td>\n",
       "      <td>7</td>\n",
       "      <td>1</td>\n",
       "      <td>0</td>\n",
       "    </tr>\n",
       "    <tr>\n",
       "      <th>64188</th>\n",
       "      <td>Br[C:1]1=[CH:3][CH:5]=[C:7]2[C:4](=[CH:2]1)[C:...</td>\n",
       "      <td>Br[C:1]1=[CH:3][CH:5]=[C:7]2[C:4](=[CH:2]1)[C:...</td>\n",
       "      <td>Brc1ccc2sc3ccccc3c2c1</td>\n",
       "      <td>21838100</td>\n",
       "      <td>73.0</td>\n",
       "      <td>633578</td>\n",
       "      <td>7</td>\n",
       "      <td>1</td>\n",
       "      <td>0</td>\n",
       "    </tr>\n",
       "    <tr>\n",
       "      <th>64189</th>\n",
       "      <td>Br[C:19]1=[CH:17][CH:15]=[C:14]([O:12][CH3:13]...</td>\n",
       "      <td>Br[C:19]1=[CH:17][CH:15]=[C:14]([O:12][CH3:13]...</td>\n",
       "      <td>COc1ccc(Br)cc1</td>\n",
       "      <td>22185457</td>\n",
       "      <td>74.0</td>\n",
       "      <td>633578</td>\n",
       "      <td>7</td>\n",
       "      <td>1</td>\n",
       "      <td>0</td>\n",
       "    </tr>\n",
       "    <tr>\n",
       "      <th>64190</th>\n",
       "      <td>Br[C:1]1=[CH:2][C:4]2=[C:6]([CH:5]=[CH:3]1)[CH...</td>\n",
       "      <td>Br[C:1]1=[CH:2][C:4]2=[C:6]([CH:5]=[CH:3]1)[CH...</td>\n",
       "      <td>Brc1ccc2ccccc2c1</td>\n",
       "      <td>22185449</td>\n",
       "      <td>77.0</td>\n",
       "      <td>633578</td>\n",
       "      <td>7</td>\n",
       "      <td>1</td>\n",
       "      <td>0</td>\n",
       "    </tr>\n",
       "    <tr>\n",
       "      <th>64191</th>\n",
       "      <td>Br[C:19]1=[CH:17][CH:15]=[C:14]([O:12][CH3:13]...</td>\n",
       "      <td>Br[C:19]1=[CH:17][CH:15]=[C:14]([O:12][CH3:13]...</td>\n",
       "      <td>COc1ccc(Br)cc1</td>\n",
       "      <td>22184377</td>\n",
       "      <td>74.0</td>\n",
       "      <td>633578</td>\n",
       "      <td>7</td>\n",
       "      <td>1</td>\n",
       "      <td>0</td>\n",
       "    </tr>\n",
       "  </tbody>\n",
       "</table>\n",
       "<p>64192 rows × 9 columns</p>\n",
       "</div>"
      ],
      "text/plain": [
       "                                               RxnSMILES   \n",
       "0      C[Si](C)(C)[Si:1]([CH3:2])([CH3:3])[CH3:4].I[C...  \\\n",
       "1      C[Si](C)(C)[Si:9]([CH3:10])([CH3:11])[CH3:12]....   \n",
       "2      C[Si](C)(C)[Si:11]([CH3:12])([CH3:13])[CH3:14]...   \n",
       "3      C[Si](C)(C)[Si:1]([CH3:2])([CH3:3])[CH3:4].I[C...   \n",
       "4      C[Si](C)(C)[Si:9]([CH3:10])([CH3:11])[CH3:12]....   \n",
       "...                                                  ...   \n",
       "64187  Br[C:1]1=[CH:2][C:4]2=[C:6]([CH:5]=[CH:3]1)[CH...   \n",
       "64188  Br[C:1]1=[CH:3][CH:5]=[C:7]2[C:4](=[CH:2]1)[C:...   \n",
       "64189  Br[C:19]1=[CH:17][CH:15]=[C:14]([O:12][CH3:13]...   \n",
       "64190  Br[C:1]1=[CH:2][C:4]2=[C:6]([CH:5]=[CH:3]1)[CH...   \n",
       "64191  Br[C:19]1=[CH:17][CH:15]=[C:14]([O:12][CH3:13]...   \n",
       "\n",
       "                                              Arylhalide   \n",
       "0      I[C:11]1=[CH:9][CH:7]=[C:6]([Cl:5])[CH:8]=[CH:...  \\\n",
       "1      I[C:6]1=[CH:4][C:2]([Cl:1])=[CH:3][C:5]([Cl:7]...   \n",
       "2      I[C:10]1=[CH:8][CH:6]=[C:5]([C:1]([CH3:2])([CH...   \n",
       "3      I[C:11]1=[CH:9][CH:7]=[C:6]([F:5])[CH:8]=[CH:10]1   \n",
       "4      I[C:6]1=[CH:4][C:2]([CH3:1])=[CH:3][C:5]([CH3:...   \n",
       "...                                                  ...   \n",
       "64187  Br[C:1]1=[CH:2][C:4]2=[C:6]([CH:5]=[CH:3]1)[CH...   \n",
       "64188  Br[C:1]1=[CH:3][CH:5]=[C:7]2[C:4](=[CH:2]1)[C:...   \n",
       "64189  Br[C:19]1=[CH:17][CH:15]=[C:14]([O:12][CH3:13]...   \n",
       "64190  Br[C:1]1=[CH:2][C:4]2=[C:6]([CH:5]=[CH:3]1)[CH...   \n",
       "64191  Br[C:19]1=[CH:17][CH:15]=[C:14]([O:12][CH3:13]...   \n",
       "\n",
       "                   Canonical     RxnID  Yield  ScopeID  ScopeSize   \n",
       "0              Clc1ccc(I)cc1  12980746   67.0        9         10  \\\n",
       "1          Clc1cc(Cl)cc(I)c1  12980747   65.0        9         10   \n",
       "2        CC(C)(C)c1ccc(I)cc1  12980741   71.0        9         10   \n",
       "3               Fc1ccc(I)cc1  12980744   74.0        9         10   \n",
       "4            Cc1cc(C)cc(I)c1  12980740   77.0        9         10   \n",
       "...                      ...       ...    ...      ...        ...   \n",
       "64187       Brc1ccc2ccccc2c1  22184995   77.0   633578          7   \n",
       "64188  Brc1ccc2sc3ccccc3c2c1  21838100   73.0   633578          7   \n",
       "64189         COc1ccc(Br)cc1  22185457   74.0   633578          7   \n",
       "64190       Brc1ccc2ccccc2c1  22185449   77.0   633578          7   \n",
       "64191         COc1ccc(Br)cc1  22184377   74.0   633578          7   \n",
       "\n",
       "       aroma_c_index  halide_index  \n",
       "0                  1             0  \n",
       "1                  1             0  \n",
       "2                  1             0  \n",
       "3                  1             0  \n",
       "4                  1             0  \n",
       "...              ...           ...  \n",
       "64187              1             0  \n",
       "64188              1             0  \n",
       "64189              1             0  \n",
       "64190              1             0  \n",
       "64191              1             0  \n",
       "\n",
       "[64192 rows x 9 columns]"
      ]
     },
     "execution_count": 4,
     "metadata": {},
     "output_type": "execute_result"
    }
   ],
   "source": [
    "df = pd.read_csv('../data/arylhalide_database_w_idx_min5.csv')\n",
    "df"
   ]
  },
  {
   "cell_type": "code",
   "execution_count": 5,
   "metadata": {},
   "outputs": [],
   "source": [
    "data = pd.read_csv(os.path.join(HOME_DIR, \"data/arylhalide_database_w_idx_min5.csv\"))\n",
    "\n",
    "train_dataset = [smiles_to_graph_substrate(smiles=data['Arylhalide'][ind], \n",
    "                                        s=data['ScopeID'][ind], \n",
    "                                        y=data['Yield'][ind]/100, \n",
    "                                            atm_idx=[data['aroma_c_index'][ind]]) for ind in range(len(data))]\n",
    "\n",
    "\n",
    "# train_dataset = torch.load(os.path.join(HOME_DIR, \"data/train_dataset.ptg\"))\n",
    "loader = DataLoader(train_dataset, 128, shuffle=False)\n",
    "\n",
    "embeddings_pretrained = get_embedding(model_pretrained, loader, device)"
   ]
  },
  {
   "cell_type": "code",
   "execution_count": 6,
   "metadata": {},
   "outputs": [],
   "source": [
    "converter = MolConvert(src = 'SMILES', dst = 'RDKit2D')\n",
    "rdkit2d_features = converter(data['Canonical'].tolist())"
   ]
  },
  {
   "cell_type": "code",
   "execution_count": 7,
   "metadata": {},
   "outputs": [
    {
     "data": {
      "application/vnd.jupyter.widget-view+json": {
       "model_id": "2943f44050594473a565a264d1dbff69",
       "version_major": 2,
       "version_minor": 0
      },
      "text/plain": [
       "  0%|          | 0/6919 [00:00<?, ?it/s]"
      ]
     },
     "metadata": {},
     "output_type": "display_data"
    }
   ],
   "source": [
    "# scope_list = [9, 422, 426, 633347, 633384, 633578]\n",
    "scope_list = df['ScopeID'].unique()\n",
    "\n",
    "r2_dict = {}\n",
    "\n",
    "for scope in tqdm(scope_list):\n",
    "    # leave-one-out validation on scope\n",
    "    temp = df[df['ScopeID'] == scope]\n",
    "    if len(temp) < 5:\n",
    "        pass\n",
    "    else:\n",
    "        X = embeddings_pretrained[temp.index]\n",
    "        y = temp.Yield.values\n",
    "        loo = LeaveOneOut()\n",
    "        y_pred = np.zeros_like(y)\n",
    "        for i, (train_index, test_index) in enumerate(loo.split(X)):\n",
    "            X_train, X_test = X[train_index], X[test_index]\n",
    "            y_train = y[train_index]\n",
    "            reg = KNeighborsRegressor(n_neighbors=4, weights='distance', metric=snr_distance).fit(X_train, y_train)\n",
    "            y_pred[test_index] = reg.predict(X_test)\n",
    "        r2_dict[scope] = r2_score(y, y_pred)\n"
   ]
  },
  {
   "cell_type": "code",
   "execution_count": 8,
   "metadata": {},
   "outputs": [
    {
     "data": {
      "application/vnd.jupyter.widget-view+json": {
       "model_id": "b3f84a92743840c09451298fe84c03fa",
       "version_major": 2,
       "version_minor": 0
      },
      "text/plain": [
       "  0%|          | 0/6919 [00:00<?, ?it/s]"
      ]
     },
     "metadata": {},
     "output_type": "display_data"
    }
   ],
   "source": [
    "# scope_list = [9, 422, 426, 633347, 633384, 633578]\n",
    "scope_list = df['ScopeID'].unique()\n",
    "\n",
    "r2_rdkit_dict = {}\n",
    "\n",
    "for scope in tqdm(scope_list):\n",
    "    # leave-one-out validation on scope\n",
    "    temp = df[df['ScopeID'] == scope]\n",
    "    if len(temp) < 5:\n",
    "        pass\n",
    "    else:\n",
    "        X = rdkit2d_features[temp.index]\n",
    "        y = temp.Yield.values\n",
    "        loo = LeaveOneOut()\n",
    "        y_pred = np.zeros_like(y)\n",
    "        for i, (train_index, test_index) in enumerate(loo.split(X)):\n",
    "            X_train, X_test = X[train_index], X[test_index]\n",
    "            y_train = y[train_index]\n",
    "            reg = RandomForestRegressor(n_estimators=5, max_depth=5).fit(X_train, y_train)\n",
    "            y_pred[test_index] = reg.predict(X_test)\n",
    "        r2_rdkit_dict[scope] = r2_score(y, y_pred)\n"
   ]
  },
  {
   "cell_type": "code",
   "execution_count": null,
   "metadata": {},
   "outputs": [],
   "source": []
  },
  {
   "cell_type": "code",
   "execution_count": 9,
   "metadata": {},
   "outputs": [
    {
     "data": {
      "application/vnd.jupyter.widget-view+json": {
       "model_id": "0e77fcf8596145fe92e9326eed27a15d",
       "version_major": 2,
       "version_minor": 0
      },
      "text/plain": [
       "  0%|          | 0/6919 [00:00<?, ?it/s]"
      ]
     },
     "metadata": {},
     "output_type": "display_data"
    }
   ],
   "source": [
    "# scope_list = [9, 422, 426, 633347, 633384, 633578]\n",
    "scope_list = df['ScopeID'].unique()\n",
    "\n",
    "r2_rdkit_knn_dict = {}\n",
    "\n",
    "for scope in tqdm(scope_list):\n",
    "    # leave-one-out validation on scope\n",
    "    temp = df[df['ScopeID'] == scope]\n",
    "    if len(temp) < 5:\n",
    "        pass\n",
    "    else:\n",
    "        X = rdkit2d_features[temp.index]\n",
    "        y = temp.Yield.values\n",
    "        loo = LeaveOneOut()\n",
    "        y_pred = np.zeros_like(y)\n",
    "        for i, (train_index, test_index) in enumerate(loo.split(X)):\n",
    "            X_train, X_test = X[train_index], X[test_index]\n",
    "            y_train = y[train_index]\n",
    "            reg = KNeighborsRegressor(n_neighbors=4, weights='distance', metric='l1').fit(X_train, y_train)\n",
    "            y_pred[test_index] = reg.predict(X_test)\n",
    "        r2_rdkit_knn_dict[scope] = r2_score(y, y_pred)"
   ]
  },
  {
   "cell_type": "code",
   "execution_count": null,
   "metadata": {},
   "outputs": [],
   "source": []
  },
  {
   "cell_type": "code",
   "execution_count": 13,
   "metadata": {},
   "outputs": [
    {
     "data": {
      "image/png": "[encoded data removed]",
      "text/plain": [
       "<Figure size 500x500 with 1 Axes>"
      ]
     },
     "metadata": {},
     "output_type": "display_data"
    }
   ],
   "source": [
    "f, ax = plt.subplots(figsize=(5, 5))\n",
    "sns.distplot(list(r2_dict.values()), kde=False, ax=ax, label='ContraScope+kNN')\n",
    "sns.distplot(list(r2_rdkit_knn_dict.values()), kde=False, ax=ax, label='RDKit2D+kNN')\n",
    "sns.distplot(list(r2_rdkit_dict.values()), kde=False, ax=ax, label='RDKit2D+RF')\n",
    "ax.set_xlabel('R2')\n",
    "ax.set_ylabel('Density')\n",
    "ax.set_title('R2 distribution of scope')\n",
    "ax.spines['top'].set_visible(False)\n",
    "ax.spines['right'].set_visible(False)\n",
    "plt.legend()\n",
    "# plt.show()\n",
    "plt.savefig('cas_r2_dist.png', dpi=300, bbox_inches='tight')"
   ]
  },
  {
   "cell_type": "code",
   "execution_count": null,
   "metadata": {},
   "outputs": [],
   "source": []
  },
  {
   "cell_type": "code",
   "execution_count": null,
   "metadata": {},
   "outputs": [],
   "source": []
  },
  {
   "cell_type": "code",
   "execution_count": null,
   "metadata": {},
   "outputs": [],
   "source": []
  }
 ],
 "metadata": {
  "kernelspec": {
   "display_name": "molfit",
   "language": "python",
   "name": "python3"
  },
  "language_info": {
   "codemirror_mode": {
    "name": "ipython",
    "version": 3
   },
   "file_extension": ".py",
   "mimetype": "text/x-python",
   "name": "python",
   "nbconvert_exporter": "python",
   "pygments_lexer": "ipython3",
   "version": "3.8.16"
  }
 },
 "nbformat": 4,
 "nbformat_minor": 2
}
